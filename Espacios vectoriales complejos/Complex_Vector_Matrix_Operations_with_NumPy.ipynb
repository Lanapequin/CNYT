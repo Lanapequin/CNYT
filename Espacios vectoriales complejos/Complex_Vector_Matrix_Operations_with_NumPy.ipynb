{
 "cells": [
  {
   "cell_type": "markdown",
   "id": "a07bd584",
   "metadata": {},
   "source": [
    "# Theory of Complex Vector Spaces\n",
    "Complex vector spaces extend the idea of real vector spaces by allowing vectors to have complex numbers as their components. In these spaces, vectors can be added together and multiplied by complex scalars to produce new vectors. Key operations in complex vector spaces include vector addition, scalar multiplication, vector negation, and complex conjugation."
   ]
  },
  {
   "cell_type": "markdown",
   "id": "f43fc972-23ab-4d81-aa26-c51325dac8f3",
   "metadata": {},
   "source": [
    "# Creating complex column vectors"
   ]
  },
  {
   "cell_type": "code",
   "execution_count": 1,
   "id": "029f08ba-1cdc-4928-9631-f62c51ab7aa5",
   "metadata": {},
   "outputs": [
    {
     "name": "stdout",
     "output_type": "stream",
     "text": [
      "Matrix:\n",
      " [[2 3]\n",
      " [1 4]]\n",
      "\n",
      "Vector:\n",
      " [5 6]\n",
      "\n",
      "Result of multiplication:\n",
      " [28 29]\n"
     ]
    }
   ],
   "source": [
    "import numpy as np\n",
    "\n",
    "# Define a 2x2 square matrix\n",
    "matrix = np.array([[2, 3],\n",
    "                   [1, 4]])\n",
    "\n",
    "# Define a vector of size 2\n",
    "vector = np.array([5, 6])\n",
    "\n",
    "# Multiply the matrix by the vector\n",
    "result = np.dot(matrix, vector)\n",
    "\n",
    "# Display the result\n",
    "print(\"Matrix:\\n\", matrix)\n",
    "print(\"\\nVector:\\n\", vector)\n",
    "print(\"\\nResult of multiplication:\\n\", result)\n"
   ]
  },
  {
   "cell_type": "markdown",
   "id": "975c2284",
   "metadata": {},
   "source": [
    "## Manipulating Complex Column Vectors using NumPy\n",
    "Here we demonstrate how to manipulate complex column vectors using NumPy, including operations like sum, negation, multiplication by a scalar, transpose, adjunct, and conjugate."
   ]
  },
  {
   "cell_type": "code",
   "execution_count": null,
   "id": "e8058abe",
   "metadata": {},
   "outputs": [],
   "source": [
    "\n",
    "import numpy as np\n",
    "\n",
    "# Define two complex column vectors\n",
    "v1 = np.array([[2+3j], [5-4j], [1+1j]])\n",
    "v2 = np.array([[1-1j], [3+2j], [4-4j]])\n",
    "\n",
    "# Sum\n",
    "sum_v = v1 + v2\n",
    "\n",
    "# Negation\n",
    "neg_v1 = -v1\n",
    "\n",
    "# Multiplication by a scalar\n",
    "scalar = 2 + 1j\n",
    "mult_v1 = v1 * scalar\n",
    "\n",
    "# Transpose\n",
    "transpose_v1 = v1.T\n",
    "\n",
    "# Adjunct (Conjugate transpose)\n",
    "adjunct_v1 = v1.T.conj()\n",
    "\n",
    "# Conjugate\n",
    "conjugate_v1 = np.conjugate(v1)\n",
    "\n",
    "(sum_v, neg_v1, mult_v1, transpose_v1, adjunct_v1, conjugate_v1)\n"
   ]
  },
  {
   "cell_type": "markdown",
   "id": "995ae5fc",
   "metadata": {},
   "source": [
    "# Theory of Vector Spaces using Matrices\n",
    "In the context of matrices, vector spaces can be defined where each vector is a matrix of a particular size. Operations on these matrix-vector spaces include matrix addition, scalar multiplication, matrix negation, transpose, adjunct, and conjugate. In this section, we focus on square matrices of size 3x3."
   ]
  },
  {
   "cell_type": "markdown",
   "id": "9385c1f0",
   "metadata": {},
   "source": [
    "## Manipulating Square Matrices using NumPy\n",
    "Examples of how to manipulate 3x3 square matrices using NumPy, showing operations such as sum, negation, multiplication by a scalar, conjugate, transpose, and adjunct."
   ]
  },
  {
   "cell_type": "code",
   "execution_count": null,
   "id": "b81ecc57",
   "metadata": {},
   "outputs": [],
   "source": [
    "\n",
    "# Define two 3x3 complex matrices\n",
    "m1 = np.array([[2+3j, 4-1j, 0], \n",
    "               [1+1j, 3+3j, 5], \n",
    "               [4, 6-2j, 1-1j]])\n",
    "m2 = np.array([[1, 2+1j, 3-3j], \n",
    "               [0, -1+2j, 1-2j], \n",
    "               [3+3j, 2, 4+4j]])\n",
    "\n",
    "# Sum\n",
    "sum_m = m1 + m2\n",
    "\n",
    "# Negation\n",
    "neg_m1 = -m1\n",
    "\n",
    "# Multiplication by a scalar\n",
    "scalar = 0.5 + 0.5j\n",
    "mult_m1 = m1 * scalar\n",
    "\n",
    "# Conjugate\n",
    "conjugate_m1 = np.conjugate(m1)\n",
    "\n",
    "# Transpose\n",
    "transpose_m1 = m1.T\n",
    "\n",
    "# Adjunct (Conjugate transpose)\n",
    "adjunct_m1 = m1.T.conj()\n",
    "\n",
    "(sum_m, neg_m1, mult_m1, conjugate_m1, transpose_m1, adjunct_m1)\n"
   ]
  },
  {
   "cell_type": "markdown",
   "id": "ed909545-8a5c-4cca-85f7-48688b597598",
   "metadata": {},
   "source": [
    "## Checking the Dimension of a Matrix\n",
    "We can check the dimension of a matrix using the `.shape` attribute."
   ]
  },
  {
   "cell_type": "code",
   "execution_count": null,
   "id": "0930dc10-af6d-427f-bbcb-75bfaf051db5",
   "metadata": {},
   "outputs": [],
   "source": [
    "# Checking the dimension of matrix1\n",
    "m1.shape"
   ]
  },
  {
   "cell_type": "markdown",
   "id": "b3fe896b",
   "metadata": {},
   "source": [
    "## Action of a Matrix on a Vector\n",
    "Finally, examples of how to use Python to multiply a 3x3 square matrix by a 3x1 column vector."
   ]
  },
  {
   "cell_type": "code",
   "execution_count": null,
   "id": "e514d047",
   "metadata": {},
   "outputs": [],
   "source": [
    "\n",
    "# Multiplying a 3x3 matrix by a 3x1 vector\n",
    "result = np.dot(m1, v1)\n",
    "result\n"
   ]
  },
  {
   "cell_type": "markdown",
   "id": "5adf9d8a-af43-4074-ab1a-3cabdc4accff",
   "metadata": {},
   "source": [
    "# Exercises on Complex Vectors and Matrices with Concrete Cases\n",
    "\n",
    "This set of exercises focuses on operations with complex column vectors and complex square matrices, including concrete cases with vectors and matrices written in LaTeX format.\n",
    "\n",
    "## Complex Column Vector Operations\n",
    "\n",
    "### Exercise 1: Sum of Two Complex Vectors\n",
    "Given two complex vectors \n",
    "$ v1 = \\begin{bmatrix} 1 + 2i \\\\ 3 - i \\end{bmatrix} $ \n",
    "and \n",
    "$ v2 = \\begin{bmatrix} 2 - i \\\\ 4 + 2i \\end{bmatrix} $, \n",
    "find their sum.\n",
    "\n",
    "### Exercise 2: Negation of a Complex Vector\n",
    "Given a complex vector \n",
    "$ v = \\begin{bmatrix} 2 + 3i \\\\ 1 - 2i \\end{bmatrix} $, \n",
    "find its negation.\n",
    "\n",
    "### Exercise 3: Multiplication of a Complex Vector by a Scalar\n",
    "Multiply the complex vector \n",
    "$ v = \\begin{bmatrix} 1 - i \\\\ 2 + 2i \\end{bmatrix} $ \n",
    "by the complex scalar $$ 3 + i $$.\n",
    "\n",
    "### Exercise 4: Transpose of a Complex Vector\n",
    "Find the transpose of the complex vector \n",
    "$ v = \\begin{bmatrix} 2 - i \\\\ 3 + 4i \\end{bmatrix} $.\n",
    "\n",
    "### Exercise 5: Conjugate of a Complex Vector\n",
    "Compute the conjugate of the complex vector \n",
    "$ v = \\begin{bmatrix} 1 + i \\\\ 2 - 3i \\end{bmatrix} $.\n",
    "\n",
    "### Exercise 6: Adjunct (Conjugate Transpose) of a Complex Vector\n",
    "Find the adjunct (or conjugate transpose) of the complex vector \n",
    "$ v = \\begin{bmatrix} 1 - 2i \\\\ 3 + i \\end{bmatrix} $.\n",
    "\n",
    "## Complex Square Matrix Operations\n",
    "\n",
    "### Exercise 7: Sum of Two Complex Matrices\n",
    "Given two complex matrices \n",
    "$ m1 = \\begin{bmatrix} 1 + i & 2 - i \\\\ 3 + 2i & 4 \\end{bmatrix} $\n",
    "and \n",
    "$ m2 = \\begin{bmatrix} 2 - 3i & 1 \\\\ i & 2 + 2i \\end{bmatrix} $, \n",
    "calculate their sum.\n",
    "\n",
    "### Exercise 8: Negation of a Complex Matrix\n",
    "Find the negation of the complex matrix \n",
    "$ m = \\begin{bmatrix} 2 + i & 3 \\\\ 1 - i & 2 + 2i \\end{bmatrix} $.\n",
    "\n",
    "### Exercise 9: Multiplication of a Complex Matrix by a Scalar\n",
    "Multiply the complex matrix \n",
    "$ m = \\begin{bmatrix} 1 - i & 2 \\\\ 3 + i & 4 - 2i \\end{bmatrix} $ \n",
    "by the complex scalar $$ 2 + 3i $$.\n",
    "\n",
    "### Exercise 10: Conjugate of a Complex Matrix\n",
    "Compute the conjugate of the complex matrix \n",
    "$ m = \\begin{bmatrix} 1 + i & 2 \\\\ 3 - i & 4 + 2i \\end{bmatrix} $.\n",
    "\n",
    "### Exercise 11: Transpose of a Complex Matrix\n",
    "Find the transpose of the complex matrix \n",
    "$ m = \\begin{bmatrix} 1 - i & 2 + 2i \\\\ 3 & 4 - i \\end{bmatrix} $.\n",
    "\n",
    "### Exercise 12: Adjunct (Conjugate Transpose) of a Complex Matrix\n",
    "Calculate the adjunct (or conjugate transpose) of the complex matrix \n",
    "$ m = \\begin{bmatrix} 1 + 2i & 3 - i \\\\ 4 & 5 + i \\end{bmatrix} $.\n",
    "\n",
    "### Exercise 13: Checking the Dimensions of a Matrix\n",
    "Determine the dimensions of the complex matrix \n",
    "$ m = \\begin{bmatrix} 1 - i & 2 \\\\ 3 + 2i & 4 - i \\end{bmatrix} $.\n",
    "\n",
    "## Multiplication of Matrices and Vectors\n",
    "\n",
    "### Exercise 14: Multiplying a Complex Square Matrix by a Complex Column Vector\n",
    "Multiply the complex square matrix \n",
    "$ m = \\begin{bmatrix} 1 + i & 2 - i \\\\ 3 & 4 + i \\end{bmatrix} $ \n",
    "by the complex column vector \n",
    "$ v = \\begin{bmatrix} 2 - i \\\\ 1 + 3i \\end{bmatrix} $.\n",
    "\n",
    "## Instructions\n",
    "For each exercise, ensure to display both the input (vectors/matrices) and the result of the operation.Use NumPy for these exercises to practice handling complex numbers and matrix operations in Python.\n"
   ]
  },
  {
   "cell_type": "markdown",
   "id": "cf75ba64",
   "metadata": {},
   "source": [
    "# Answers"
   ]
  },
  {
   "cell_type": "markdown",
   "id": "0410245f",
   "metadata": {},
   "source": [
    "## Complex Column Vector Operations\n",
    "\n",
    "### Exercise 1: Sum of Two Complex Vectors\n",
    "Given two complex vectors \n",
    "$ v1 = \\begin{bmatrix} 1 + 2i \\\\ 3 - i \\end{bmatrix} $ \n",
    "and \n",
    "$ v2 = \\begin{bmatrix} 2 - i \\\\ 4 + 2i \\end{bmatrix} $, \n",
    "find their sum."
   ]
  },
  {
   "cell_type": "code",
   "execution_count": 2,
   "id": "12949876-03e8-4f25-b566-517ed35ac1e1",
   "metadata": {},
   "outputs": [
    {
     "name": "stdout",
     "output_type": "stream",
     "text": [
      "\n",
      "Vector 1:\n",
      " [[1.+2.j]\n",
      " [3.-1.j]]\n",
      "\n",
      "Vector 2:\n",
      " [[2.-1.j]\n",
      " [4.+2.j]]\n",
      "\n",
      "Resultado de la suma:\n",
      " [[3.+1.j]\n",
      " [7.+1.j]]\n"
     ]
    }
   ],
   "source": [
    "import numpy as np\n",
    "# Ejercicio 1 - Suma de dos vectores complejos\n",
    "\n",
    "# Definir los dos vectores complejos\n",
    "v1 = np.array([[1+2j], [3-1j]])\n",
    "v2 = np.array([[2-1j], [4+2j]])\n",
    "\n",
    "print(\"\\nVector 1:\\n\", v1)\n",
    "print(\"\\nVector 2:\\n\", v2)\n",
    "\n",
    "# Suma de los dos vectores junto a la respuesta en pantalla\n",
    "resp = v1+v2\n",
    "print(\"\\nResultado de la suma:\\n\", resp)"
   ]
  },
  {
   "cell_type": "markdown",
   "id": "783ee3c8",
   "metadata": {},
   "source": [
    "### Exercise 2: Negation of a Complex Vector\n",
    "Given a complex vector \n",
    "$ v = \\begin{bmatrix} 2 + 3i \\\\ 1 - 2i \\end{bmatrix} $, \n",
    "find its negation."
   ]
  },
  {
   "cell_type": "code",
   "execution_count": 8,
   "id": "39e59c8c",
   "metadata": {},
   "outputs": [
    {
     "name": "stdout",
     "output_type": "stream",
     "text": [
      "\n",
      "Vector:\n",
      " [[2.+3.j]\n",
      " [1.-2.j]]\n",
      "\n",
      "Resultado de la negación del vector:\n",
      " [[-2.-3.j]\n",
      " [-1.+2.j]]\n"
     ]
    }
   ],
   "source": [
    "import numpy as np\n",
    "# Ejercicio 2 - Negación de un vector complejo\n",
    "\n",
    "# Definir el vector complejo y se imprime en pantalla\n",
    "v1 = np.array([[2+3j], [1-2j]])\n",
    "print(\"\\nVector:\\n\", v1)\n",
    "\n",
    "# Negacion del vector complejo dado y se imprime en pantalla el resultado\n",
    "neg_v1 = -v1\n",
    "print(\"\\nResultado de la negación del vector:\\n\", neg_v1)"
   ]
  },
  {
   "cell_type": "markdown",
   "id": "3fa14ef8",
   "metadata": {},
   "source": [
    "### Exercise 3: Multiplication of a Complex Vector by a Scalar\n",
    "Multiply the complex vector \n",
    "$ v = \\begin{bmatrix} 1 - i \\\\ 2 + 2i \\end{bmatrix} $ \n",
    "by the complex scalar $$ 3 + i $$."
   ]
  },
  {
   "cell_type": "code",
   "execution_count": 7,
   "id": "780d2a9b",
   "metadata": {},
   "outputs": [
    {
     "name": "stdout",
     "output_type": "stream",
     "text": [
      "\n",
      "Vector:\n",
      " [[1.-1.j]\n",
      " [2.+2.j]]\n",
      "\n",
      "Escalar:\n",
      " (3+1j)\n",
      "\n",
      "Resultado de la multiplicacion del escalar por el vector complejo:\n",
      " [[4.-2.j]\n",
      " [4.+8.j]]\n"
     ]
    }
   ],
   "source": [
    "import numpy as np\n",
    "# Ejercicio 3 - Multiplicación de un vector complejo por un escalar\n",
    "\n",
    "# Definir el vector complejo, el escalar y se imprimen en pantalla\n",
    "v1 = np.array([[1-1j], [2+2j]])\n",
    "escalar = 3 + 1j\n",
    "print(\"\\nVector:\\n\", v1)\n",
    "print(\"\\nEscalar:\\n\", escalar)\n",
    "\n",
    "# Multiplicacion del escalar por el vector complejo y se imprime el resultado\n",
    "mult_v1 = v1 * escalar\n",
    "print(\"\\nResultado de la multiplicacion del escalar por el vector complejo:\\n\", mult_v1)\n",
    "\n",
    "\n"
   ]
  },
  {
   "cell_type": "markdown",
   "id": "b50a24b5",
   "metadata": {},
   "source": [
    "### Exercise 4: Transpose of a Complex Vector\n",
    "Find the transpose of the complex vector \n",
    "$ v = \\begin{bmatrix} 2 - i \\\\ 3 + 4i \\end{bmatrix} $.\n",
    "\n"
   ]
  },
  {
   "cell_type": "code",
   "execution_count": 1,
   "id": "90f7fd2b",
   "metadata": {},
   "outputs": [
    {
     "name": "stdout",
     "output_type": "stream",
     "text": [
      "\n",
      "Vector:\n",
      " [[2.-1.j]\n",
      " [3.+4.j]]\n",
      "\n",
      "Transpuesta del vector complejo:\n",
      " [[2.-1.j 3.+4.j]]\n"
     ]
    }
   ],
   "source": [
    "import numpy as np\n",
    "# Ejercicio 4 - Transpuesta de un vector complejo\n",
    "\n",
    "# Definir el vector complejo y se imprime en pantalla\n",
    "v1 = np.array([[2-1j], [3+4j]])\n",
    "print(\"\\nVector:\\n\", v1)\n",
    "\n",
    "# Se obtiene la transpuesta del vector complejo y se imprime en pantalla\n",
    "transpuesta_v1 = v1.T\n",
    "print(\"\\nTranspuesta del vector complejo:\\n\", transpuesta_v1)"
   ]
  },
  {
   "cell_type": "markdown",
   "id": "4c0f2589",
   "metadata": {},
   "source": [
    "### Exercise 5: Conjugate of a Complex Vector\n",
    "Compute the conjugate of the complex vector \n",
    "$ v = \\begin{bmatrix} 1 + i \\\\ 2 - 3i \\end{bmatrix} $.\n",
    "\n"
   ]
  },
  {
   "cell_type": "code",
   "execution_count": 9,
   "id": "2e3601b9",
   "metadata": {},
   "outputs": [
    {
     "name": "stdout",
     "output_type": "stream",
     "text": [
      "\n",
      "Vector:\n",
      " [[1.+1.j]\n",
      " [2.-3.j]]\n",
      "\n",
      "Conjugado del vector complejo:\n",
      " [[1.-1.j]\n",
      " [2.+3.j]]\n"
     ]
    }
   ],
   "source": [
    "import numpy as np\n",
    "# Ejercicio 5 - Conjugado de un vector complejo\n",
    "\n",
    "# Definir el vector complejo y se imprime en pantalla\n",
    "v1 = np.array([[1+1j], [2-3j]])\n",
    "print(\"\\nVector:\\n\", v1)\n",
    "\n",
    "# Se obtiene el conjugado del vector complejo y se imprime en pantalla\n",
    "conjug_v1 = v1.conj()\n",
    "print(\"\\nConjugado del vector complejo:\\n\", conjug_v1)"
   ]
  },
  {
   "cell_type": "markdown",
   "id": "18fbfef9",
   "metadata": {},
   "source": [
    "### Exercise 6: Adjunct (Conjugate Transpose) of a Complex Vector\n",
    "Find the adjunct (or conjugate transpose) of the complex vector \n",
    "$ v = \\begin{bmatrix} 1 - 2i \\\\ 3 + i \\end{bmatrix} $."
   ]
  },
  {
   "cell_type": "code",
   "execution_count": 22,
   "id": "3099ec86",
   "metadata": {},
   "outputs": [
    {
     "name": "stdout",
     "output_type": "stream",
     "text": [
      "\n",
      "Vector:\n",
      " [[1.-2.j]\n",
      " [3.+1.j]]\n",
      "\n",
      "Adjunta del vector complejo:\n",
      " [[1.+2.j 3.-1.j]]\n"
     ]
    }
   ],
   "source": [
    "import numpy as np\n",
    "# Ejercicio 6 - Adjunta de un vector complejo\n",
    "\n",
    "# Definir el vector complejo y se imprime en pantalla\n",
    "v1 = np.array([[1-2j], [3+1j]])\n",
    "print(\"\\nVector:\\n\", v1)\n",
    "\n",
    "# Se obtiene la adjunta del vector complejo y se imprime en pantalla\n",
    "adjunta_v1 = v1.T.conj()\n",
    "print(\"\\nAdjunta del vector complejo:\\n\", adjunta_v1)"
   ]
  },
  {
   "cell_type": "markdown",
   "id": "29e749c5",
   "metadata": {},
   "source": [
    "## Complex Square Matrix Operations\n",
    "\n",
    "### Exercise 7: Sum of Two Complex Matrices\n",
    "Given two complex matrices \n",
    "$ m1 = \\begin{bmatrix} 1 + i & 2 - i \\\\ 3 + 2i & 4 \\end{bmatrix} $\n",
    "and \n",
    "$ m2 = \\begin{bmatrix} 2 - 3i & 1 \\\\ i & 2 + 2i \\end{bmatrix} $, \n",
    "calculate their sum.\n",
    "\n"
   ]
  },
  {
   "cell_type": "code",
   "execution_count": 10,
   "id": "7c10abfe",
   "metadata": {},
   "outputs": [
    {
     "name": "stdout",
     "output_type": "stream",
     "text": [
      "\n",
      "Matriz 1:\n",
      " [[1.+1.j 2.-1.j]\n",
      " [3.+2.j 4.+0.j]]\n",
      "\n",
      "Matriz 2:\n",
      " [[2.-3.j 1.+0.j]\n",
      " [0.+1.j 2.+2.j]]\n",
      "\n",
      "Resultado de la suma:\n",
      " [[3.-2.j 3.-1.j]\n",
      " [3.+3.j 6.+2.j]]\n"
     ]
    }
   ],
   "source": [
    "import numpy as np\n",
    "# Ejercicio 7 - Suma de dos matrices complejas\n",
    "\n",
    "# Definir las dos matrices complejas y se imprimen en pantalla\n",
    "m1 = np.array([[1+1j, 2-1j], \n",
    "               [3+2j, 4]])\n",
    "m2 = np.array([[2-3j, 1], \n",
    "               [1j, 2+2j]])\n",
    "print(\"\\nMatriz 1:\\n\", m1)\n",
    "print(\"\\nMatriz 2:\\n\", m2)\n",
    "\n",
    "# Se obtiene la suma de las dos matrices y se imprime el resultado en pantalla\n",
    "sum_m = m1 + m2\n",
    "print(\"\\nResultado de la suma:\\n\", sum_m)\n"
   ]
  },
  {
   "cell_type": "markdown",
   "id": "6f649867",
   "metadata": {},
   "source": [
    "### Exercise 8: Negation of a Complex Matrix\n",
    "Find the negation of the complex matrix \n",
    "$ m = \\begin{bmatrix} 2 + i & 3 \\\\ 1 - i & 2 + 2i \\end{bmatrix} $.\n",
    "\n"
   ]
  },
  {
   "cell_type": "code",
   "execution_count": 11,
   "id": "ff678ce3",
   "metadata": {},
   "outputs": [
    {
     "name": "stdout",
     "output_type": "stream",
     "text": [
      "\n",
      "Matriz:\n",
      " [[2.+1.j 3.+0.j]\n",
      " [1.-1.j 2.+2.j]]\n",
      "\n",
      "Resultado de la negación de la matriz:\n",
      " [[-2.-1.j -3.-0.j]\n",
      " [-1.+1.j -2.-2.j]]\n"
     ]
    }
   ],
   "source": [
    "import numpy as np\n",
    "# Ejercicio 8 - Negación de una matriz complejas\n",
    "# Definir la matriz compleja y se imprime en pantalla\n",
    "m1 = np.array([[2+1j, 3], \n",
    "               [1-1j, 2+2j]])\n",
    "print(\"\\nMatriz:\\n\", m1)\n",
    "\n",
    "# Se obtiene la negación de la matriz y se imprime en pantalla\n",
    "neg_m1 = -m1\n",
    "print(\"\\nResultado de la negación de la matriz:\\n\", neg_m1)"
   ]
  },
  {
   "cell_type": "markdown",
   "id": "1b68fe1a",
   "metadata": {},
   "source": [
    "### Exercise 9: Multiplication of a Complex Matrix by a Scalar\n",
    "Multiply the complex matrix \n",
    "$ m = \\begin{bmatrix} 1 - i & 2 \\\\ 3 + i & 4 - 2i \\end{bmatrix} $ \n",
    "by the complex scalar $$ 2 + 3i $$.\n"
   ]
  },
  {
   "cell_type": "code",
   "execution_count": 12,
   "id": "8628b4ce",
   "metadata": {},
   "outputs": [
    {
     "name": "stdout",
     "output_type": "stream",
     "text": [
      "\n",
      "Matriz:\n",
      " [[1.-1.j 2.+0.j]\n",
      " [3.+1.j 4.-2.j]]\n",
      "\n",
      "Escalar:\n",
      " (2+3j)\n",
      "\n",
      "Resultado de la multiplicacion del escalar por la matriz compleja:\n",
      " [[ 5. +1.j  4. +6.j]\n",
      " [ 3.+11.j 14. +8.j]]\n"
     ]
    }
   ],
   "source": [
    "import numpy as np\n",
    "# Ejercicio 9 - Multiplicación de una matriz compleja por un escalar\n",
    "# Definir la matriz compleja, el escalar y se imprimen en pantalla\n",
    "m1 = np.array([[1-1j, 2], \n",
    "               [3+1j, 4-2j]])\n",
    "escalar = 2 + 3j\n",
    "print(\"\\nMatriz:\\n\", m1)\n",
    "print(\"\\nEscalar:\\n\", escalar)\n",
    "\n",
    "# Multiplicacion del escalar por la matriz compleja y se imprime el resultado\n",
    "mult_m1 = m1 * escalar\n",
    "print(\"\\nResultado de la multiplicacion del escalar por la matriz compleja:\\n\", mult_m1)\n"
   ]
  },
  {
   "cell_type": "markdown",
   "id": "87c3242a",
   "metadata": {},
   "source": [
    "\n",
    "### Exercise 10: Conjugate of a Complex Matrix\n",
    "Compute the conjugate of the complex matrix \n",
    "$ m = \\begin{bmatrix} 1 + i & 2 \\\\ 3 - i & 4 + 2i \\end{bmatrix} $."
   ]
  },
  {
   "cell_type": "code",
   "execution_count": 15,
   "id": "1248be8e",
   "metadata": {},
   "outputs": [
    {
     "name": "stdout",
     "output_type": "stream",
     "text": [
      "\n",
      "Matriz:\n",
      " [[1.+1.j 2.+0.j]\n",
      " [3.-1.j 4.+2.j]]\n",
      "\n",
      "Conjugado de la matriz compleja:\n",
      " [[1.-1.j 2.-0.j]\n",
      " [3.+1.j 4.-2.j]]\n"
     ]
    }
   ],
   "source": [
    "import numpy as np\n",
    "# Ejercicio 10 - Conjugado de la matriz compleja\n",
    "# Definir la matriz compleja y se imprime en pantalla\n",
    "m1 = np.array([[1+1j, 2], \n",
    "               [3-1j, 4+2j]])\n",
    "print(\"\\nMatriz:\\n\", m1)\n",
    "\n",
    "# Se calcula el conjugado de la matriz y se imprime en pantalla el resultado\n",
    "conjugado_m1 = m1.conj()\n",
    "print(\"\\nConjugado de la matriz compleja:\\n\", conjugado_m1)"
   ]
  },
  {
   "cell_type": "markdown",
   "id": "0f975b9a",
   "metadata": {},
   "source": [
    "\n",
    "### Exercise 11: Transpose of a Complex Matrix\n",
    "Find the transpose of the complex matrix \n",
    "$ m = \\begin{bmatrix} 1 - i & 2 + 2i \\\\ 3 & 4 - i \\end{bmatrix} $.\n",
    "\n"
   ]
  },
  {
   "cell_type": "code",
   "execution_count": 18,
   "id": "b188c1f3",
   "metadata": {},
   "outputs": [
    {
     "name": "stdout",
     "output_type": "stream",
     "text": [
      "\n",
      "Matriz:\n",
      " [[1.-1.j 2.+2.j]\n",
      " [3.+0.j 4.-1.j]]\n",
      "\n",
      "Transpuesta de la matriz compleja:\n",
      " [[1.-1.j 3.+0.j]\n",
      " [2.+2.j 4.-1.j]]\n"
     ]
    }
   ],
   "source": [
    "import numpy as np\n",
    "# Ejercicio 11 - Transpuesta de la matriz compleja\n",
    "# Se define la matriz compleja y se imprime en pantalla\n",
    "m1 = np.array([[1-1j, 2+2j], \n",
    "               [3, 4-1j]])\n",
    "print(\"\\nMatriz:\\n\", m1)\n",
    "\n",
    "# Se obtiene la transpuesta de la matriz y se imprime en pantalla\n",
    "transp_m1 = m1.T\n",
    "print(\"\\nTranspuesta de la matriz compleja:\\n\", transp_m1)\n"
   ]
  },
  {
   "cell_type": "markdown",
   "id": "4117e055",
   "metadata": {},
   "source": [
    "### Exercise 12: Adjunct (Conjugate Transpose) of a Complex Matrix\n",
    "Calculate the adjunct (or conjugate transpose) of the complex matrix \n",
    "$ m = \\begin{bmatrix} 1 + 2i & 3 - i \\\\ 4 & 5 + i \\end{bmatrix} $.\n",
    "\n"
   ]
  },
  {
   "cell_type": "code",
   "execution_count": 20,
   "id": "cde3f35f",
   "metadata": {},
   "outputs": [
    {
     "name": "stdout",
     "output_type": "stream",
     "text": [
      "\n",
      "Matriz:\n",
      " [[1.+2.j 3.-1.j]\n",
      " [4.+0.j 5.+1.j]]\n",
      "\n",
      "Adjunta de la matriz compleja:\n",
      " [[1.-2.j 4.-0.j]\n",
      " [3.+1.j 5.-1.j]]\n"
     ]
    }
   ],
   "source": [
    "import numpy as np\n",
    "# Ejercicio 12 - Adjunta de la matriz compleja\n",
    "# Se define la matriz compleja y se imprime en pantalla\n",
    "m1 = np.array([[1+2j, 3-1j], \n",
    "               [4, 5+1j]])\n",
    "print(\"\\nMatriz:\\n\", m1)\n",
    " \n",
    "# Se obtiene la adjunta de la matriz y se imprime en pantalla\n",
    "adjunta_m1 = m1.T.conj()\n",
    "print(\"\\nAdjunta de la matriz compleja:\\n\", adjunta_m1)"
   ]
  },
  {
   "cell_type": "markdown",
   "id": "3d10cf3a",
   "metadata": {},
   "source": [
    "### Exercise 13: Checking the Dimensions of a Matrix\n",
    "Determine the dimensions of the complex matrix \n",
    "$ m = \\begin{bmatrix} 1 - i & 2 \\\\ 3 + 2i & 4 - i \\end{bmatrix} $.\n",
    "\n"
   ]
  },
  {
   "cell_type": "code",
   "execution_count": 23,
   "id": "b6c6f54b",
   "metadata": {},
   "outputs": [
    {
     "name": "stdout",
     "output_type": "stream",
     "text": [
      "\n",
      "Matriz:\n",
      " [[1.-1.j 2.+0.j]\n",
      " [3.+2.j 4.-1.j]]\n",
      "\n",
      "La matriz tiene 2 filas y 2 columnas\n"
     ]
    }
   ],
   "source": [
    "import numpy as np\n",
    "# Ejercicio 13 - Dimensiones de una matriz compleja\n",
    "# Se define la matriz compleja y se imprime en pantalla\n",
    "m1 = np.array([[1-1j, 2], \n",
    "               [3+2j, 4-1j]])\n",
    "print(\"\\nMatriz:\\n\", m1)\n",
    "\n",
    "# Se obtienen las dimensiones de la matriz y se imprimen en pantalla\n",
    "dimensiones = m1.shape\n",
    "print(\"\\nLa matriz tiene\", dimensiones[0],\"filas y\", dimensiones[1],\"columnas\")\n",
    "\n",
    "\n"
   ]
  },
  {
   "cell_type": "markdown",
   "id": "b8d0f971",
   "metadata": {},
   "source": [
    "## Multiplication of Matrices and Vectors\n",
    "\n",
    "### Exercise 14: Multiplying a Complex Square Matrix by a Complex Column Vector\n",
    "Multiply the complex square matrix \n",
    "$ m = \\begin{bmatrix} 1 + i & 2 - i \\\\ 3 & 4 + i \\end{bmatrix} $ \n",
    "by the complex column vector \n",
    "$ v = \\begin{bmatrix} 2 - i \\\\ 1 + 3i \\end{bmatrix} $."
   ]
  },
  {
   "cell_type": "code",
   "execution_count": 27,
   "id": "e66a1589",
   "metadata": {},
   "outputs": [
    {
     "name": "stdout",
     "output_type": "stream",
     "text": [
      "\n",
      "Vector:\n",
      " [[2.-1.j]\n",
      " [1.+3.j]]\n",
      "\n",
      "Matriz:\n",
      " [[1.+1.j 2.-1.j]\n",
      " [3.+0.j 4.+1.j]]\n",
      "\n",
      "El resultado de multiplicar la matriz por el vector es:\n",
      " [[8. +6.j]\n",
      " [7.+10.j]]\n"
     ]
    }
   ],
   "source": [
    "import numpy as np\n",
    "# Ejercicio 14 - Multiplicación de una matriz cuadrada compleja por un vector columna complejo\n",
    "# Se define la matriz compleja, el vector complejo y se imprimen en pantalla\n",
    "m1 = np.array([[1+1j, 2-1j], \n",
    "               [3, 4+1j]])\n",
    "v1 = np.array([[2-1j], [1+3j]])\n",
    "print(\"\\nVector:\\n\", v1)\n",
    "print(\"\\nMatriz:\\n\", m1)\n",
    "\n",
    "# Se realiza la multiplicación de la matriz por el vector y se imprime el resultado  en pantalla\n",
    "resp = np.dot(m1,v1)\n",
    "print(\"\\nEl resultado de multiplicar la matriz por el vector es:\\n\", resp)\n"
   ]
  }
 ],
 "metadata": {
  "kernelspec": {
   "display_name": "Python 3 (ipykernel)",
   "language": "python",
   "name": "python3"
  },
  "language_info": {
   "codemirror_mode": {
    "name": "ipython",
    "version": 3
   },
   "file_extension": ".py",
   "mimetype": "text/x-python",
   "name": "python",
   "nbconvert_exporter": "python",
   "pygments_lexer": "ipython3",
   "version": "3.10.6"
  }
 },
 "nbformat": 4,
 "nbformat_minor": 5
}
